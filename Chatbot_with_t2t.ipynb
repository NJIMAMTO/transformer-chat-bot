{
  "nbformat": 4,
  "nbformat_minor": 0,
  "metadata": {
    "colab": {
      "name": "Chatbot_with_t2t.ipynb",
      "provenance": [],
      "authorship_tag": "ABX9TyNmfR9TziZdBgnrlVu9W6PB",
      "include_colab_link": true
    },
    "kernelspec": {
      "name": "python3",
      "display_name": "Python 3"
    },
    "accelerator": "GPU"
  },
  "cells": [
    {
      "cell_type": "markdown",
      "metadata": {
        "id": "view-in-github",
        "colab_type": "text"
      },
      "source": [
        "<a href=\"https://colab.research.google.com/github/NJIMAMTO/transformer-chat-bot/blob/master/Chatbot_with_t2t.ipynb\" target=\"_parent\"><img src=\"https://colab.research.google.com/assets/colab-badge.svg\" alt=\"Open In Colab\"/></a>"
      ]
    },
    {
      "cell_type": "code",
      "metadata": {
        "id": "lexd9bW5OcPC",
        "colab_type": "code",
        "colab": {}
      },
      "source": [
        "%tensorflow_version 1.x"
      ],
      "execution_count": null,
      "outputs": []
    },
    {
      "cell_type": "code",
      "metadata": {
        "id": "SdchJvsimx6j",
        "colab_type": "code",
        "colab": {}
      },
      "source": [
        "!pip install tensor2tensor"
      ],
      "execution_count": null,
      "outputs": []
    },
    {
      "cell_type": "code",
      "metadata": {
        "id": "ZofKYHJ4m3VQ",
        "colab_type": "code",
        "colab": {}
      },
      "source": [
        "from google.colab import drive\n",
        "drive.mount('/content/drive')"
      ],
      "execution_count": null,
      "outputs": []
    },
    {
      "cell_type": "code",
      "metadata": {
        "id": "zLj5fXSCM6O_",
        "colab_type": "code",
        "colab": {}
      },
      "source": [
        "cd /content/drive/My Drive/Colab Notebooks"
      ],
      "execution_count": null,
      "outputs": []
    },
    {
      "cell_type": "code",
      "metadata": {
        "id": "gCpXVep-m5la",
        "colab_type": "code",
        "colab": {}
      },
      "source": [
        "!t2t-datagen \\\n",
        "  --data_dir=. \\\n",
        "  --tmp_dir=./t2t \\\n",
        "  --problem=chat_bot \\\n",
        "  --t2t_usr_dir=./t2t\n"
      ],
      "execution_count": null,
      "outputs": []
    },
    {
      "cell_type": "code",
      "metadata": {
        "id": "ZxNuo87qm9-d",
        "colab_type": "code",
        "colab": {}
      },
      "source": [
        "!t2t-trainer \\\n",
        "  --data_dir=/content/drive/My\\ Drive/Colab\\ Notebooks \\\n",
        "  --problem=chat_bot \\\n",
        "  --model=transformer \\\n",
        "  --hparams_set=transformer_base_single_gpu \\\n",
        "  --output_dir=/content/drive/My\\ Drive/Colab\\ Notebooks/t2t \\\n",
        "  --t2t_usr_dir=/content/drive/My\\ Drive/Colab\\ Notebooks/t2t"
      ],
      "execution_count": null,
      "outputs": []
    },
    {
      "cell_type": "code",
      "metadata": {
        "id": "iEi1wlGjROpp",
        "colab_type": "code",
        "colab": {}
      },
      "source": [
        "!t2t-decoder \\\n",
        "   --data_dir=./ \\\n",
        "   --problem=chat_bot \\\n",
        "   --model=transformer \\\n",
        "   --hparams_set=transformer_base_single_gpu \\\n",
        "   --output_dir=./t2t \\\n",
        "   --decode_hparams=\"beam_size=4,alpha=0.6\" \\\n",
        "   --decode_interactive=true \\\n",
        "   --t2t_usr_dir=./t2t"
      ],
      "execution_count": null,
      "outputs": []
    }
  ]
}